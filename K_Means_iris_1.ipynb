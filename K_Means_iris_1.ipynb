{
  "nbformat": 4,
  "nbformat_minor": 0,
  "metadata": {
    "colab": {
      "provenance": []
    },
    "kernelspec": {
      "name": "python3",
      "display_name": "Python 3"
    },
    "language_info": {
      "name": "python"
    }
  },
  "cells": [
    {
      "cell_type": "code",
      "execution_count": null,
      "metadata": {
        "id": "f6QveQcn0P6F"
      },
      "outputs": [],
      "source": [
        "from sklearn.cluster import KMeans  # KMeans：用於分群（非監督式學習）\n",
        "from sklearn.datasets import load_iris# 讀取內建的鳶尾花資料集\n",
        "from sklearn.metrics import accuracy_score# 計算準確率（監督式學習用，這裡可選擇性使用）\n",
        "\n",
        "# 讀入鳶尾花資料\n",
        "iris = load_iris() # 載入資料\n",
        "iris_data = iris.data # 特徵資料（4 個維度：花萼與花瓣的長寬）\n",
        "iris_label = iris.target# 真實的品種標籤（0=setosa, 1=versicolor, 2=virginica）\n",
        "\n",
        "# 建立分類器\n",
        "clf = KMeans(3)\n",
        "iris_clf = clf.fit(iris_data)\n",
        "\n",
        "cluster_labels = iris_clf.labels_\n",
        "print(\"分群結果：\")\n",
        "print(cluster_labels)\n",
        "\n",
        "# 印出品種看看\n",
        "print(\"真實品種：\")\n",
        "print(iris_label)\n",
        "\n",
        "print(accuracy_score(cluster_labels, iris_label))\n",
        "\n",
        "\n",
        "\n",
        "\n"
      ]
    }
  ]
}